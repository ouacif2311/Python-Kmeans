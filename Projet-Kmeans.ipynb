{
 "cells": [
  {
   "cell_type": "markdown",
   "metadata": {},
   "source": [
    "# Projet : Python\n",
    "##  Traitement et Analyse de données:\n",
    "\n",
    "### *Partie n°1:*\n",
    "     -Extraire le fichier correspondant;\n",
    "     -Calculer pour chaque variable étudier:\n",
    "         -la moyenne, l'écart type, la variance\n",
    "     -calculer pour chaque deux variable étudier:\n",
    "         -le coefficient de corrélation\n",
    "         "
   ]
  },
  {
   "cell_type": "code",
   "execution_count": 1,
   "metadata": {},
   "outputs": [],
   "source": [
    "import numpy as np\n",
    "import math as m\n",
    "import pandas as pd\n",
    "import numpy.random as rand\n",
    "\n",
    "from Algorithmes import Kmeans\n",
    "import utilsFunctions"
   ]
  },
  {
   "cell_type": "code",
   "execution_count": 2,
   "metadata": {},
   "outputs": [],
   "source": [
    "res = pd.read_csv(\"iris_csv.csv\")"
   ]
  },
  {
   "cell_type": "code",
   "execution_count": null,
   "metadata": {},
   "outputs": [],
   "source": [
    "res.head(200)"
   ]
  },
  {
   "cell_type": "code",
   "execution_count": null,
   "metadata": {},
   "outputs": [],
   "source": [
    "res.describe()"
   ]
  },
  {
   "cell_type": "code",
   "execution_count": 3,
   "metadata": {},
   "outputs": [],
   "source": [
    "a=res.iloc[0:,0]\n",
    "#print(a)\n",
    "a1=res.iloc[0:,1]\n",
    "#print(a1)\n",
    "a2=res.iloc[0:,2]\n",
    "#print(a2)\n",
    "a3=res.iloc[0:,3]\n",
    "#print(a3)\n",
    "a4=res.iloc[0:,4]\n",
    "#print(a4)"
   ]
  },
  {
   "cell_type": "code",
   "execution_count": 4,
   "metadata": {},
   "outputs": [
    {
     "name": "stdout",
     "output_type": "stream",
     "text": [
      "5.843333333333334\n",
      "3.0540000000000003\n",
      "3.758666666666666\n",
      "1.1986666666666668\n"
     ]
    }
   ],
   "source": [
    "m=utilsFunctions.moyenne(a)\n",
    "print(m)\n",
    "\n",
    "m1=utilsFunctions.moyenne(a1)\n",
    "print(m1)\n",
    "\n",
    "m2=utilsFunctions.moyenne(a2)\n",
    "print(m2)\n",
    "\n",
    "m3=utilsFunctions.moyenne(a3)\n",
    "print(m3)"
   ]
  },
  {
   "cell_type": "code",
   "execution_count": 5,
   "metadata": {},
   "outputs": [
    {
     "name": "stdout",
     "output_type": "stream",
     "text": [
      "0.6811222222222222\n",
      "0.18675066666666695\n",
      "3.0924248888888894\n",
      "0.5785315555555548\n"
     ]
    }
   ],
   "source": [
    "v=utilsFunctions.variance(a,m)\n",
    "print(v)\n",
    "\n",
    "v1=utilsFunctions.variance(a1,m1)             \n",
    "print(v1)\n",
    "\n",
    "v2=utilsFunctions.variance(a2,m2)             \n",
    "print(v2)\n",
    "\n",
    "v3=utilsFunctions.variance(a3,m3)             \n",
    "print(v3) \n"
   ]
  },
  {
   "cell_type": "code",
   "execution_count": 6,
   "metadata": {},
   "outputs": [
    {
     "name": "stdout",
     "output_type": "stream",
     "text": [
      "0.8253012917851409\n",
      "0.43214658007054385\n",
      "1.7585291834055212\n",
      "0.7606126185881712\n"
     ]
    }
   ],
   "source": [
    "e=utilsFunctions.ecarttype(v)\n",
    "print(e)\n",
    "e1=utilsFunctions.ecarttype(v1)\n",
    "print(e1)\n",
    "e2=utilsFunctions.ecarttype(v2)\n",
    "print(e2)\n",
    "e3=utilsFunctions.ecarttype(v3)\n",
    "print(e3)"
   ]
  },
  {
   "cell_type": "code",
   "execution_count": 7,
   "metadata": {},
   "outputs": [
    {
     "name": "stdout",
     "output_type": "stream",
     "text": [
      "-0.03900666666666666\n",
      "1.2651911111111118\n",
      "0.5134577777777779\n",
      "-0.319568\n",
      "-0.11719466666666656\n",
      "1.2877448888888894\n"
     ]
    }
   ],
   "source": [
    "cov=utilsFunctions.covariance(a,a1,m,m1)\n",
    "print(cov)\n",
    "\n",
    "cov1=utilsFunctions.covariance(a,a2,m,m2)\n",
    "print(cov1)\n",
    "\n",
    "cov2=utilsFunctions.covariance(a,a3,m,m3)\n",
    "print(cov2)\n",
    "\n",
    "cov3=utilsFunctions.covariance(a1,a2,m1,m2)\n",
    "print(cov3)\n",
    "\n",
    "cov4=utilsFunctions.covariance(a1,a3,m1,m3)\n",
    "print(cov4)\n",
    "\n",
    "cov5=utilsFunctions.covariance(a2,a3,m2,m3)\n",
    "print(cov5)"
   ]
  },
  {
   "cell_type": "code",
   "execution_count": 8,
   "metadata": {},
   "outputs": [
    {
     "name": "stdout",
     "output_type": "stream",
     "text": [
      "-0.10936924995064926\n",
      "0.8717541573048716\n",
      "0.8179536333691642\n",
      "-0.42051609640115417\n",
      "-0.35654408961380546\n",
      "0.9627570970509671\n"
     ]
    }
   ],
   "source": [
    "r=utilsFunctions.coeffecientCorrélation(cov,e,e1)\n",
    "print(r)\n",
    "\n",
    "r1=utilsFunctions.coeffecientCorrélation(cov1,e,e2)\n",
    "print(r1)\n",
    "\n",
    "r2=utilsFunctions.coeffecientCorrélation(cov2,e,e3)\n",
    "print(r2)\n",
    "\n",
    "r3=utilsFunctions.coeffecientCorrélation(cov3,e1,e2)\n",
    "print(r3)\n",
    "\n",
    "r4=utilsFunctions.coeffecientCorrélation(cov4,e1,e3)\n",
    "print(r4)\n",
    "\n",
    "r5=utilsFunctions.coeffecientCorrélation(cov5,e2,e3)\n",
    "print(r5)"
   ]
  },
  {
   "cell_type": "markdown",
   "metadata": {},
   "source": [
    "## *Partie n°1:*\n",
    "    Implémentation de l'algorithme de classification\n",
    "    La méthode des Kmeans\n",
    "   "
   ]
  },
  {
   "cell_type": "code",
   "execution_count": 9,
   "metadata": {},
   "outputs": [],
   "source": [
    "algoKmeans = Kmeans(3)"
   ]
  },
  {
   "cell_type": "code",
   "execution_count": 10,
   "metadata": {},
   "outputs": [],
   "source": [
    "table=res.iloc[:,:-1].to_numpy()\n",
    "y = np.random.randint(3,size=(150,1))"
   ]
  },
  {
   "cell_type": "code",
   "execution_count": 11,
   "metadata": {},
   "outputs": [],
   "source": [
    "clusters = algoKmeans.implementation(table)"
   ]
  },
  {
   "cell_type": "code",
   "execution_count": 12,
   "metadata": {},
   "outputs": [
    {
     "name": "stdout",
     "output_type": "stream",
     "text": [
      "[2] 0\n",
      "[2] 0\n",
      "[2] 0\n",
      "[2] 0\n",
      "[2] 0\n",
      "[2] 0\n",
      "[2] 0\n",
      "[2] 0\n",
      "[2] 0\n",
      "[2] 0\n",
      "[2] 0\n",
      "[2] 0\n",
      "[2] 0\n",
      "[2] 0\n",
      "[2] 0\n",
      "[2] 0\n",
      "[2] 0\n",
      "[2] 0\n",
      "[2] 0\n",
      "[2] 0\n",
      "[2] 0\n",
      "[2] 0\n",
      "[2] 0\n",
      "[2] 0\n",
      "[2] 0\n",
      "[2] 0\n",
      "[2] 0\n",
      "[2] 0\n",
      "[2] 0\n",
      "[2] 0\n",
      "[2] 0\n",
      "[2] 0\n",
      "[2] 0\n",
      "[2] 0\n",
      "[2] 0\n",
      "[2] 0\n",
      "[2] 0\n",
      "[2] 0\n",
      "[2] 0\n",
      "[2] 0\n",
      "[2] 0\n",
      "[2] 0\n",
      "[2] 0\n",
      "[2] 0\n",
      "[2] 0\n",
      "[2] 0\n",
      "[2] 0\n",
      "[2] 0\n",
      "[2] 0\n",
      "[2] 0\n",
      "[1] 1\n",
      "[0] 1\n",
      "[1] 1\n",
      "[0] 1\n",
      "[0] 1\n",
      "[0] 1\n",
      "[0] 1\n",
      "[0] 1\n",
      "[0] 1\n",
      "[0] 1\n",
      "[0] 1\n",
      "[0] 1\n",
      "[0] 1\n",
      "[0] 1\n",
      "[0] 1\n",
      "[0] 1\n",
      "[0] 1\n",
      "[0] 1\n",
      "[0] 1\n",
      "[0] 1\n",
      "[0] 1\n",
      "[0] 1\n",
      "[0] 1\n",
      "[0] 1\n",
      "[0] 1\n",
      "[0] 1\n",
      "[0] 1\n",
      "[1] 1\n",
      "[0] 1\n",
      "[0] 1\n",
      "[0] 1\n",
      "[0] 1\n",
      "[0] 1\n",
      "[0] 1\n",
      "[0] 1\n",
      "[0] 1\n",
      "[0] 1\n",
      "[0] 1\n",
      "[0] 1\n",
      "[0] 1\n",
      "[0] 1\n",
      "[0] 1\n",
      "[0] 1\n",
      "[0] 1\n",
      "[0] 1\n",
      "[0] 1\n",
      "[0] 1\n",
      "[0] 1\n",
      "[0] 1\n",
      "[0] 1\n",
      "[1] 2\n",
      "[0] 2\n",
      "[1] 2\n",
      "[1] 2\n",
      "[1] 2\n",
      "[1] 2\n",
      "[0] 2\n",
      "[1] 2\n",
      "[1] 2\n",
      "[1] 2\n",
      "[1] 2\n",
      "[1] 2\n",
      "[1] 2\n",
      "[0] 2\n",
      "[0] 2\n",
      "[1] 2\n",
      "[1] 2\n",
      "[1] 2\n",
      "[1] 2\n",
      "[0] 2\n",
      "[1] 2\n",
      "[0] 2\n",
      "[1] 2\n",
      "[0] 2\n",
      "[1] 2\n",
      "[1] 2\n",
      "[0] 2\n",
      "[0] 2\n",
      "[1] 2\n",
      "[1] 2\n",
      "[1] 2\n",
      "[1] 2\n",
      "[1] 2\n",
      "[0] 2\n",
      "[1] 2\n",
      "[1] 2\n",
      "[1] 2\n",
      "[1] 2\n",
      "[0] 2\n",
      "[1] 2\n",
      "[1] 2\n",
      "[1] 2\n",
      "[0] 2\n",
      "[1] 2\n",
      "[1] 2\n",
      "[1] 2\n",
      "[0] 2\n",
      "[1] 2\n",
      "[1] 2\n",
      "[0] 2\n"
     ]
    }
   ],
   "source": [
    "for i in range (0,150):\n",
    "    print(clusters[i],utilsFunctions.convert_iris_data_class(res.iloc[i,4]))"
   ]
  }
 ],
 "metadata": {
  "kernelspec": {
   "display_name": "Python 3",
   "language": "python",
   "name": "python3"
  },
  "language_info": {
   "codemirror_mode": {
    "name": "ipython",
    "version": 3
   },
   "file_extension": ".py",
   "mimetype": "text/x-python",
   "name": "python",
   "nbconvert_exporter": "python",
   "pygments_lexer": "ipython3",
   "version": "3.7.9"
  },
  "toc": {
   "base_numbering": 1,
   "nav_menu": {},
   "number_sections": false,
   "sideBar": false,
   "skip_h1_title": false,
   "title_cell": "Table of Contents",
   "title_sidebar": "Contents",
   "toc_cell": false,
   "toc_position": {},
   "toc_section_display": false,
   "toc_window_display": false
  }
 },
 "nbformat": 4,
 "nbformat_minor": 4
}
