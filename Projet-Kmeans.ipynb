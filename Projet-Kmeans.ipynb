{
 "cells": [
  {
   "cell_type": "markdown",
   "metadata": {},
   "source": [
    "# Projet : Python\n",
    "##  Traitement et Analyse de données:\n",
    "\n",
    "### *Partie 1:*\n",
    "     -Extraire le fichier correspondant;\n",
    "     -Calculer pour chaque variable étudier:\n",
    "         -la moyenne, l'écart type, la variance\n",
    "     -calculer pour chaque deux variable étudier:\n",
    "         -le coefficient de corrélation\n",
    "         "
   ]
  },
  {
   "cell_type": "code",
   "execution_count": null,
   "metadata": {},
   "outputs": [],
   "source": [
    "import numpy as np\n",
    "import math as m\n",
    "import pandas as pd"
   ]
  },
  {
   "cell_type": "code",
   "execution_count": null,
   "metadata": {},
   "outputs": [],
   "source": [
    "res = pd.read_csv(\"iris_csv.csv\")"
   ]
  },
  {
   "cell_type": "code",
   "execution_count": null,
   "metadata": {},
   "outputs": [],
   "source": [
    "res.head(200)"
   ]
  },
  {
   "cell_type": "code",
   "execution_count": null,
   "metadata": {},
   "outputs": [],
   "source": [
    "res.describe()"
   ]
  },
  {
   "cell_type": "code",
   "execution_count": null,
   "metadata": {},
   "outputs": [],
   "source": [
    "a=res.iloc[0:,0]\n",
    "print(a)\n",
    "a1=res.iloc[0:,1]\n",
    "print(a1)\n",
    "a2=res.iloc[0:,2]\n",
    "print(a2)\n",
    "a3=res.iloc[0:,3]\n",
    "print(a3)\n"
   ]
  },
  {
   "cell_type": "code",
   "execution_count": null,
   "metadata": {},
   "outputs": [],
   "source": [
    "def moyenne(x):\n",
    "    moy=(np.sum(x)/len(x))\n",
    "    return moy"
   ]
  },
  {
   "cell_type": "code",
   "execution_count": null,
   "metadata": {},
   "outputs": [],
   "source": [
    "m=moyenne(a)\n",
    "print(m)\n",
    "\n",
    "m1=moyenne(a1)\n",
    "print(m1)\n",
    "\n",
    "m2=moyenne(a2)\n",
    "print(m2)\n",
    "\n",
    "m3=moyenne(a3)\n",
    "print(m3)"
   ]
  },
  {
   "cell_type": "code",
   "execution_count": null,
   "metadata": {},
   "outputs": [],
   "source": [
    "def variance(x,y):\n",
    "    var=0\n",
    "    for i in range(0,len(x)):  \n",
    "        var+=(x[i]-y)*(x[i]-y)*(1/len(x))\n",
    "    return var\n",
    "    "
   ]
  },
  {
   "cell_type": "code",
   "execution_count": null,
   "metadata": {},
   "outputs": [],
   "source": [
    "v=variance(a,m)\n",
    "print(v)\n",
    "\n",
    "v1=variance(a1,m1)             \n",
    "print(v1)\n",
    "\n",
    "v2=variance(a2,m2)             \n",
    "print(v2)\n",
    "\n",
    "v3=variance(a3,m3)             \n",
    "print(v3) \n"
   ]
  },
  {
   "cell_type": "code",
   "execution_count": null,
   "metadata": {},
   "outputs": [],
   "source": [
    "def ecarttype(y):\n",
    "    e=np.sqrt(y)\n",
    "    return e"
   ]
  },
  {
   "cell_type": "code",
   "execution_count": null,
   "metadata": {},
   "outputs": [],
   "source": [
    "e=ecarttype(v)\n",
    "print(e)\n",
    "e1=ecarttype(v1)\n",
    "print(e1)\n",
    "e2=ecarttype(v2)\n",
    "print(e2)\n",
    "e3=ecarttype(v3)\n",
    "print(e3)"
   ]
  },
  {
   "cell_type": "code",
   "execution_count": 3,
   "metadata": {},
   "outputs": [],
   "source": [
    "def covariance(tab,tab2,moy1,moy2):\n",
    "    cov=0\n",
    "    n=0\n",
    "    for i in range(0,len(tab)):\n",
    "        n+=(tab[i]-moy1)*(tab2[i]-moy2)\n",
    "        cov=(1/150)*n\n",
    "    return cov\n",
    "        "
   ]
  },
  {
   "cell_type": "code",
   "execution_count": null,
   "metadata": {},
   "outputs": [],
   "source": [
    "cov=covariance(a,a1,m,m1)\n",
    "print(cov)\n",
    "\n",
    "cov1=covariance(a,a2,m,m2)\n",
    "print(cov1)\n",
    "\n",
    "cov2=covariance(a,a3,m,m3)\n",
    "print(cov2)\n",
    "\n",
    "cov3=covariance(a1,a2,m1,m2)\n",
    "print(cov3)\n",
    "\n",
    "cov4=covariance(a1,a3,m1,m3)\n",
    "print(cov4)\n",
    "\n",
    "cov5=covariance(a2,a3,m2,m3)\n",
    "print(cov5)"
   ]
  },
  {
   "cell_type": "code",
   "execution_count": 2,
   "metadata": {},
   "outputs": [],
   "source": [
    "def coeffecientCorrélation(cov,ecartType1,ecartType2):\n",
    "    coeff=cov/(ecartType1*ecartType2)\n",
    "    return coeff"
   ]
  },
  {
   "cell_type": "code",
   "execution_count": null,
   "metadata": {},
   "outputs": [],
   "source": [
    "r=coeffecientCorrélation(cov,e,e1)\n",
    "print(r)\n",
    "\n",
    "r1=coeffecientCorrélation(cov1,e,e2)\n",
    "print(r1)\n",
    "\n",
    "r2=coeffecientCorrélation(cov2,e,e3)\n",
    "print(r2)\n",
    "\n",
    "r3=coeffecientCorrélation(cov3,e1,e2)\n",
    "print(r3)\n",
    "\n",
    "r4=coeffecientCorrélation(cov4,e1,e3)\n",
    "print(r4)\n",
    "\n",
    "r5=coeffecientCorrélation(cov5,e2,e3)\n",
    "print(r5)"
   ]
  },
  {
   "cell_type": "code",
   "execution_count": null,
   "metadata": {},
   "outputs": [],
   "source": []
  }
 ],
 "metadata": {
  "kernelspec": {
   "display_name": "Python 3",
   "language": "python",
   "name": "python3"
  },
  "language_info": {
   "codemirror_mode": {
    "name": "ipython",
    "version": 3
   },
   "file_extension": ".py",
   "mimetype": "text/x-python",
   "name": "python",
   "nbconvert_exporter": "python",
   "pygments_lexer": "ipython3",
   "version": "3.7.9"
  },
  "toc": {
   "base_numbering": 1,
   "nav_menu": {},
   "number_sections": false,
   "sideBar": false,
   "skip_h1_title": false,
   "title_cell": "Table of Contents",
   "title_sidebar": "Contents",
   "toc_cell": false,
   "toc_position": {},
   "toc_section_display": false,
   "toc_window_display": false
  }
 },
 "nbformat": 4,
 "nbformat_minor": 4
}
